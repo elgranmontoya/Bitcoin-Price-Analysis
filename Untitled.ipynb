{
 "cells": [
  {
   "cell_type": "code",
   "execution_count": 35,
   "metadata": {
    "collapsed": true
   },
   "outputs": [],
   "source": [
    "import csv\n",
    "import matplotlib.pyplot as plt\n",
    "import numpy as np\n",
    "import datetime as dt"
   ]
  },
  {
   "cell_type": "code",
   "execution_count": 21,
   "metadata": {
    "collapsed": false
   },
   "outputs": [],
   "source": [
    "samples = []\n",
    "with open('./bitstampUSD_1-min_data_2012-01-01_to_2017-05-31.csv') as csvfile:\n",
    "    reader = csv.reader(csvfile)  \n",
    "    for line in reader:\n",
    "        samples.append(line)\n",
    "\n",
    "\n",
    "#     plt.plot(samples)\n",
    "#     plt.show()"
   ]
  },
  {
   "cell_type": "code",
   "execution_count": 22,
   "metadata": {
    "collapsed": false
   },
   "outputs": [
    {
     "name": "stdout",
     "output_type": "stream",
     "text": [
      "['Timestamp', 'Open', 'High', 'Low', 'Close', 'Volume (BTC)', 'Volume (Currency)', 'Weighted Price']\n"
     ]
    }
   ],
   "source": [
    "print(samples[0])"
   ]
  },
  {
   "cell_type": "code",
   "execution_count": 23,
   "metadata": {
    "collapsed": false
   },
   "outputs": [
    {
     "name": "stdout",
     "output_type": "stream",
     "text": [
      "['1325317920', '4.39', '4.39', '4.39', '4.39', '0.45558087', '2.0000000193', '4.39']\n"
     ]
    }
   ],
   "source": [
    "print(samples[1])"
   ]
  },
  {
   "cell_type": "code",
   "execution_count": 24,
   "metadata": {
    "collapsed": false
   },
   "outputs": [
    {
     "name": "stdout",
     "output_type": "stream",
     "text": [
      "(2841378, 8)\n"
     ]
    }
   ],
   "source": [
    "data = np.asarray(samples)\n",
    "print(data.shape)"
   ]
  },
  {
   "cell_type": "code",
   "execution_count": 40,
   "metadata": {
    "collapsed": false
   },
   "outputs": [],
   "source": [
    "# carve out timestamp and weighted price columns\n",
    "plot_x = data[1::,[0]]\n",
    "plot_x = plot_x.flatten()\n",
    "plot_y = data[1::,[7]]\n",
    "plot_y = plot_y.flatten()\n",
    "\n",
    "# delete all entries where price is 'NaN'\n",
    "index = np.argwhere(plot_y == 'NaN')\n",
    "plot_y = np.delete(plot_y, index)\n",
    "plot_x = np.delete(plot_x, index)\n",
    "\n",
    "# convert timestamps to dates\n",
    "plot_x = plot_x.astype(float)\n",
    "dateconv = np.vectorize(dt.datetime.fromtimestamp)\n",
    "plot_x = dateconv(plot_x)\n"
   ]
  },
  {
   "cell_type": "code",
   "execution_count": 41,
   "metadata": {
    "collapsed": false
   },
   "outputs": [
    {
     "data": {
      "image/png": "[encoded data removed]",
      "text/plain": [
       "<matplotlib.figure.Figure at 0x21e25a4e0>"
      ]
     },
     "metadata": {},
     "output_type": "display_data"
    }
   ],
   "source": [
    "plt.plot(plot_x, plot_y, label = 'weighted price')\n",
    "plt.title(\"weighted price over time\")\n",
    "plt.xlabel(\"time\")\n",
    "plt.ylabel(\"USD\")\n",
    "plt.show()"
   ]
  },
  {
   "cell_type": "markdown",
   "metadata": {
    "collapsed": true
   },
   "source": [
    "TODO:\n",
    "\n",
    "use np.loadtxt instead of csv module\n",
    "\n",
    "learn about vectorize\n",
    "\n",
    "add volume histogram to price graph\n",
    "\n",
    "volume histograms by day of week/time of day\n",
    "\n",
    "open high low candle stick"
   ]
  },
  {
   "cell_type": "code",
   "execution_count": null,
   "metadata": {
    "collapsed": true
   },
   "outputs": [],
   "source": []
  }
 ],
 "metadata": {
  "kernelspec": {
   "display_name": "Python 3",
   "language": "python",
   "name": "python3"
  },
  "language_info": {
   "codemirror_mode": {
    "name": "ipython",
    "version": 3
   },
   "file_extension": ".py",
   "mimetype": "text/x-python",
   "name": "python",
   "nbconvert_exporter": "python",
   "pygments_lexer": "ipython3",
   "version": "3.5.2"
  },
  "widgets": {
   "state": {},
   "version": "1.1.2"
  }
 },
 "nbformat": 4,
 "nbformat_minor": 2
}
